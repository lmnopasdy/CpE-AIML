{
  "nbformat": 4,
  "nbformat_minor": 0,
  "metadata": {
    "colab": {
      "name": "58090_Lab1_TSDC.ipynb",
      "provenance": [],
      "collapsed_sections": []
    },
    "kernelspec": {
      "display_name": "Python 3",
      "name": "python3"
    },
    "language_info": {
      "name": "python"
    }
  },
  "cells": [
    {
      "cell_type": "code",
      "metadata": {
        "id": "xOW3jxbpvkhq"
      },
      "source": [
        "import pandas as pd\n",
        "import numpy as np\n",
        "import math\n"
      ],
      "execution_count": null,
      "outputs": []
    },
    {
      "cell_type": "code",
      "metadata": {
        "colab": {
          "base_uri": "https://localhost:8080/",
          "height": 878
        },
        "id": "j-03iDCewVnC",
        "outputId": "1110a859-98af-49e0-878a-a30c1e89d54a"
      },
      "source": [
        "df = pd.read_csv ('class_grades.csv')\n",
        "df"
      ],
      "execution_count": null,
      "outputs": [
        {
          "output_type": "execute_result",
          "data": {
            "text/html": [
              "<div>\n",
              "<style scoped>\n",
              "    .dataframe tbody tr th:only-of-type {\n",
              "        vertical-align: middle;\n",
              "    }\n",
              "\n",
              "    .dataframe tbody tr th {\n",
              "        vertical-align: top;\n",
              "    }\n",
              "\n",
              "    .dataframe thead th {\n",
              "        text-align: right;\n",
              "    }\n",
              "</style>\n",
              "<table border=\"1\" class=\"dataframe\">\n",
              "  <thead>\n",
              "    <tr style=\"text-align: right;\">\n",
              "      <th></th>\n",
              "      <th>name</th>\n",
              "      <th>id</th>\n",
              "      <th>prelim_grades</th>\n",
              "      <th>midterm_grades</th>\n",
              "      <th>final_grades</th>\n",
              "    </tr>\n",
              "  </thead>\n",
              "  <tbody>\n",
              "    <tr>\n",
              "      <th>0</th>\n",
              "      <td>alpha</td>\n",
              "      <td>1</td>\n",
              "      <td>94.960000</td>\n",
              "      <td>95.260</td>\n",
              "      <td>92.2192</td>\n",
              "    </tr>\n",
              "    <tr>\n",
              "      <th>1</th>\n",
              "      <td>aleph</td>\n",
              "      <td>2</td>\n",
              "      <td>94.960000</td>\n",
              "      <td>95.260</td>\n",
              "      <td>92.7792</td>\n",
              "    </tr>\n",
              "    <tr>\n",
              "      <th>2</th>\n",
              "      <td>beta</td>\n",
              "      <td>3</td>\n",
              "      <td>78.173333</td>\n",
              "      <td>94.360</td>\n",
              "      <td>84.3200</td>\n",
              "    </tr>\n",
              "    <tr>\n",
              "      <th>3</th>\n",
              "      <td>beth</td>\n",
              "      <td>4</td>\n",
              "      <td>78.173333</td>\n",
              "      <td>81.372</td>\n",
              "      <td>84.6400</td>\n",
              "    </tr>\n",
              "    <tr>\n",
              "      <th>4</th>\n",
              "      <td>cuprum</td>\n",
              "      <td>5</td>\n",
              "      <td>94.960000</td>\n",
              "      <td>95.260</td>\n",
              "      <td>92.2192</td>\n",
              "    </tr>\n",
              "    <tr>\n",
              "      <th>5</th>\n",
              "      <td>delta</td>\n",
              "      <td>6</td>\n",
              "      <td>84.826667</td>\n",
              "      <td>92.485</td>\n",
              "      <td>83.5792</td>\n",
              "    </tr>\n",
              "    <tr>\n",
              "      <th>6</th>\n",
              "      <td>eta</td>\n",
              "      <td>7</td>\n",
              "      <td>93.980000</td>\n",
              "      <td>97.300</td>\n",
              "      <td>95.6528</td>\n",
              "    </tr>\n",
              "    <tr>\n",
              "      <th>7</th>\n",
              "      <td>epsilon</td>\n",
              "      <td>8</td>\n",
              "      <td>60.788200</td>\n",
              "      <td>68.000</td>\n",
              "      <td>83.8672</td>\n",
              "    </tr>\n",
              "    <tr>\n",
              "      <th>8</th>\n",
              "      <td>foxtrot</td>\n",
              "      <td>9</td>\n",
              "      <td>94.306667</td>\n",
              "      <td>82.000</td>\n",
              "      <td>84.1472</td>\n",
              "    </tr>\n",
              "    <tr>\n",
              "      <th>9</th>\n",
              "      <td>gamma</td>\n",
              "      <td>10</td>\n",
              "      <td>96.406667</td>\n",
              "      <td>82.000</td>\n",
              "      <td>84.1472</td>\n",
              "    </tr>\n",
              "    <tr>\n",
              "      <th>10</th>\n",
              "      <td>geld</td>\n",
              "      <td>11</td>\n",
              "      <td>86.926667</td>\n",
              "      <td>92.485</td>\n",
              "      <td>82.7792</td>\n",
              "    </tr>\n",
              "    <tr>\n",
              "      <th>11</th>\n",
              "      <td>horus</td>\n",
              "      <td>12</td>\n",
              "      <td>78.173333</td>\n",
              "      <td>94.360</td>\n",
              "      <td>84.3200</td>\n",
              "    </tr>\n",
              "    <tr>\n",
              "      <th>12</th>\n",
              "      <td>iota</td>\n",
              "      <td>13</td>\n",
              "      <td>94.306667</td>\n",
              "      <td>82.000</td>\n",
              "      <td>84.1472</td>\n",
              "    </tr>\n",
              "    <tr>\n",
              "      <th>13</th>\n",
              "      <td>ixus</td>\n",
              "      <td>14</td>\n",
              "      <td>78.173333</td>\n",
              "      <td>94.360</td>\n",
              "      <td>84.3200</td>\n",
              "    </tr>\n",
              "    <tr>\n",
              "      <th>14</th>\n",
              "      <td>jakarta</td>\n",
              "      <td>15</td>\n",
              "      <td>84.826667</td>\n",
              "      <td>92.485</td>\n",
              "      <td>82.7792</td>\n",
              "    </tr>\n",
              "    <tr>\n",
              "      <th>15</th>\n",
              "      <td>koppa</td>\n",
              "      <td>16</td>\n",
              "      <td>NaN</td>\n",
              "      <td>87.685</td>\n",
              "      <td>83.8672</td>\n",
              "    </tr>\n",
              "    <tr>\n",
              "      <th>16</th>\n",
              "      <td>lambda</td>\n",
              "      <td>17</td>\n",
              "      <td>93.980000</td>\n",
              "      <td>97.300</td>\n",
              "      <td>95.6528</td>\n",
              "    </tr>\n",
              "    <tr>\n",
              "      <th>17</th>\n",
              "      <td>mu</td>\n",
              "      <td>18</td>\n",
              "      <td>79.806667</td>\n",
              "      <td>83.500</td>\n",
              "      <td>81.2792</td>\n",
              "    </tr>\n",
              "    <tr>\n",
              "      <th>18</th>\n",
              "      <td>nu</td>\n",
              "      <td>19</td>\n",
              "      <td>75.406667</td>\n",
              "      <td>82.000</td>\n",
              "      <td>82.5472</td>\n",
              "    </tr>\n",
              "    <tr>\n",
              "      <th>19</th>\n",
              "      <td>neta</td>\n",
              "      <td>20</td>\n",
              "      <td>69.314000</td>\n",
              "      <td>87.685</td>\n",
              "      <td>50.3360</td>\n",
              "    </tr>\n",
              "    <tr>\n",
              "      <th>20</th>\n",
              "      <td>omicron</td>\n",
              "      <td>21</td>\n",
              "      <td>93.980000</td>\n",
              "      <td>97.300</td>\n",
              "      <td>95.6528</td>\n",
              "    </tr>\n",
              "    <tr>\n",
              "      <th>21</th>\n",
              "      <td>omega</td>\n",
              "      <td>22</td>\n",
              "      <td>79.806667</td>\n",
              "      <td>83.500</td>\n",
              "      <td>81.2792</td>\n",
              "    </tr>\n",
              "    <tr>\n",
              "      <th>22</th>\n",
              "      <td>phalanx</td>\n",
              "      <td>23</td>\n",
              "      <td>84.826667</td>\n",
              "      <td>92.485</td>\n",
              "      <td>82.7792</td>\n",
              "    </tr>\n",
              "    <tr>\n",
              "      <th>23</th>\n",
              "      <td>peta</td>\n",
              "      <td>24</td>\n",
              "      <td>94.960000</td>\n",
              "      <td>95.260</td>\n",
              "      <td>92.2192</td>\n",
              "    </tr>\n",
              "    <tr>\n",
              "      <th>24</th>\n",
              "      <td>pi</td>\n",
              "      <td>25</td>\n",
              "      <td>79.806667</td>\n",
              "      <td>87.460</td>\n",
              "      <td>81.2792</td>\n",
              "    </tr>\n",
              "    <tr>\n",
              "      <th>25</th>\n",
              "      <td>yotta</td>\n",
              "      <td>26</td>\n",
              "      <td>93.980000</td>\n",
              "      <td>97.300</td>\n",
              "      <td>94.8528</td>\n",
              "    </tr>\n",
              "    <tr>\n",
              "      <th>26</th>\n",
              "      <td>zeta</td>\n",
              "      <td>27</td>\n",
              "      <td>86.626667</td>\n",
              "      <td>84.850</td>\n",
              "      <td>83.8672</td>\n",
              "    </tr>\n",
              "  </tbody>\n",
              "</table>\n",
              "</div>"
            ],
            "text/plain": [
              "       name  id  prelim_grades  midterm_grades  final_grades\n",
              "0     alpha   1      94.960000          95.260       92.2192\n",
              "1     aleph   2      94.960000          95.260       92.7792\n",
              "2      beta   3      78.173333          94.360       84.3200\n",
              "3      beth   4      78.173333          81.372       84.6400\n",
              "4    cuprum   5      94.960000          95.260       92.2192\n",
              "5     delta   6      84.826667          92.485       83.5792\n",
              "6       eta   7      93.980000          97.300       95.6528\n",
              "7   epsilon   8      60.788200          68.000       83.8672\n",
              "8   foxtrot   9      94.306667          82.000       84.1472\n",
              "9     gamma  10      96.406667          82.000       84.1472\n",
              "10     geld  11      86.926667          92.485       82.7792\n",
              "11    horus  12      78.173333          94.360       84.3200\n",
              "12     iota  13      94.306667          82.000       84.1472\n",
              "13     ixus  14      78.173333          94.360       84.3200\n",
              "14  jakarta  15      84.826667          92.485       82.7792\n",
              "15    koppa  16            NaN          87.685       83.8672\n",
              "16   lambda  17      93.980000          97.300       95.6528\n",
              "17       mu  18      79.806667          83.500       81.2792\n",
              "18       nu  19      75.406667          82.000       82.5472\n",
              "19     neta  20      69.314000          87.685       50.3360\n",
              "20  omicron  21      93.980000          97.300       95.6528\n",
              "21    omega  22      79.806667          83.500       81.2792\n",
              "22  phalanx  23      84.826667          92.485       82.7792\n",
              "23     peta  24      94.960000          95.260       92.2192\n",
              "24       pi  25      79.806667          87.460       81.2792\n",
              "25    yotta  26      93.980000          97.300       94.8528\n",
              "26     zeta  27      86.626667          84.850       83.8672"
            ]
          },
          "metadata": {},
          "execution_count": 111
        }
      ]
    },
    {
      "cell_type": "markdown",
      "metadata": {
        "id": "MK8zenm38Ivq"
      },
      "source": [
        "Task 1"
      ]
    },
    {
      "cell_type": "code",
      "metadata": {
        "id": "VW4x3ReGwwKy"
      },
      "source": [
        "name = [df.name] #Names of Students\n",
        "id = [df.id] #ID of Students\n",
        "pgrades = [df.prelim_grades] #Prelim Grades\n",
        "mgrades = [df.midterm_grades] #Midterm Grades\n",
        "fgrades = [df.final_grades] #Final Grades"
      ],
      "execution_count": null,
      "outputs": []
    },
    {
      "cell_type": "code",
      "metadata": {
        "id": "7kbeb5WCHmim"
      },
      "source": [
        "df['prelim_grades'] = df['prelim_grades'].fillna(0)"
      ],
      "execution_count": null,
      "outputs": []
    },
    {
      "cell_type": "markdown",
      "metadata": {
        "id": "YFMui1iM5AzC"
      },
      "source": [
        "Task 2"
      ]
    },
    {
      "cell_type": "code",
      "metadata": {
        "colab": {
          "base_uri": "https://localhost:8080/"
        },
        "id": "t1hEDbjlMxoi",
        "outputId": "e0c2129e-0029-45a7-bf7a-9f2fe377b40d"
      },
      "source": [
        "def mean(grades):\n",
        "  pgrades_sum = 0\n",
        "  for grade in grades:\n",
        "    pgrades_sum += grade\n",
        "  m = pgrades_sum/len(grades)\n",
        "  return m\n",
        "\n",
        "print(mean(df.prelim_grades))\n",
        "print(mean(df.midterm_grades))\n",
        "print(mean(df.final_grades))"
      ],
      "execution_count": null,
      "outputs": [
        {
          "output_type": "stream",
          "name": "stdout",
          "text": [
            "82.46057531851854\n",
            "89.456\n",
            "85.2418074074074\n"
          ]
        }
      ]
    },
    {
      "cell_type": "code",
      "metadata": {
        "colab": {
          "base_uri": "https://localhost:8080/"
        },
        "id": "cCRp-C7qZ4PB",
        "outputId": "bf5b4860-f3ad-4b72-db50-c722582fbd17"
      },
      "source": [
        "def median(grades):\n",
        "  grades_sum = 0\n",
        "  for grade in grades:\n",
        "    grades_sum += grade\n",
        "    m = sorted(grades)[len(grades)//2]\n",
        "    return m\n",
        "\n",
        "print(median(df.prelim_grades))\n",
        "print(median(df.midterm_grades))\n",
        "print(median(df.final_grades))"
      ],
      "execution_count": null,
      "outputs": [
        {
          "output_type": "stream",
          "name": "stdout",
          "text": [
            "84.8266667\n",
            "92.485\n",
            "84.1472\n"
          ]
        }
      ]
    },
    {
      "cell_type": "code",
      "metadata": {
        "colab": {
          "base_uri": "https://localhost:8080/"
        },
        "id": "zjjFHpY3jimS",
        "outputId": "7bece91a-7eaf-47d6-d73d-0aba11905a8c"
      },
      "source": [
        "def mode(grades):\n",
        "\tfrequency = {}\n",
        "\tfor grade in grades:\n",
        "\t\tfrequency.setdefault(grade,0)\n",
        "\t\tfrequency[grade]+=1\n",
        "\thighestFrequency=max(frequency.values())\n",
        "\thighestFreqLst=[]\n",
        "\tfor grade, freq in frequency.items():\n",
        "\t\tif freq == highestFrequency:\n",
        "\t\t\thighestFreqLst.append(grade)\n",
        "\treturn highestFreqLst\n",
        "\n",
        "print(mode(df.prelim_grades))\n",
        "print(mode(df.midterm_grades))\n",
        "print(mode(df.final_grades))"
      ],
      "execution_count": null,
      "outputs": [
        {
          "output_type": "stream",
          "name": "stdout",
          "text": [
            "[94.96, 78.1733333, 93.98]\n",
            "[95.26, 92.485, 97.3, 82.0]\n",
            "[92.2192, 84.32, 95.6528, 83.8672, 84.1472, 82.7792, 81.2792]\n"
          ]
        }
      ]
    },
    {
      "cell_type": "code",
      "metadata": {
        "colab": {
          "base_uri": "https://localhost:8080/"
        },
        "id": "FiboMoMBkq_C",
        "outputId": "142d494e-8fc7-4bb0-8ef6-b6b3f92048b0"
      },
      "source": [
        "def semestral(grades):\n",
        "  sem_gr = 0\n",
        "  for grade in grades:\n",
        "    sem_gr += grade\n",
        "  sgrade = 0.3*df.prelim_grades + 0.3*df.midterm_grades + 0.4*df.final_grades\n",
        "  return sgrade\n",
        "\n",
        "print(semestral(df.final_grades))\n"
      ],
      "execution_count": null,
      "outputs": [
        {
          "output_type": "stream",
          "name": "stdout",
          "text": [
            "0     93.95368\n",
            "1     94.17768\n",
            "2     85.48800\n",
            "3     81.71960\n",
            "4     93.95368\n",
            "5     86.62518\n",
            "6     95.64512\n",
            "7     72.18334\n",
            "8     86.55088\n",
            "9     87.18088\n",
            "10    86.93518\n",
            "11    85.48800\n",
            "12    86.55088\n",
            "13    85.48800\n",
            "14    86.30518\n",
            "15    59.85238\n",
            "16    95.64512\n",
            "17    81.50368\n",
            "18    80.24088\n",
            "19    67.23410\n",
            "20    95.64512\n",
            "21    81.50368\n",
            "22    86.30518\n",
            "23    93.95368\n",
            "24    82.69168\n",
            "25    95.32512\n",
            "26    84.98988\n",
            "dtype: float64\n"
          ]
        }
      ]
    },
    {
      "cell_type": "code",
      "metadata": {
        "colab": {
          "base_uri": "https://localhost:8080/"
        },
        "id": "hGorjfWEseXf",
        "outputId": "b6fc5a27-8cad-4275-b766-61f4c743df29"
      },
      "source": [
        "def semestral(grades):\n",
        "  sem_gr = 0\n",
        "  for grade in grades:\n",
        "    sem_gr += grade\n",
        "  sgrade = 0.3*df.prelim_grades + 0.3*df.midterm_grades + 0.4*df.final_grades\n",
        "  return sgrade\n",
        "\n",
        "print('Highest Prelim Grade is:',max(df.prelim_grades))\n",
        "print('Lowest Prelim Grade is:',min(df.prelim_grades))\n"
      ],
      "execution_count": null,
      "outputs": [
        {
          "output_type": "stream",
          "name": "stdout",
          "text": [
            "Highest Prelim Grade is: 96.4066667\n",
            "Lowest Prelim Grade is: 0.0\n"
          ]
        }
      ]
    },
    {
      "cell_type": "code",
      "metadata": {
        "colab": {
          "base_uri": "https://localhost:8080/"
        },
        "id": "2EUZLp6UtQoP",
        "outputId": "65fac211-c20d-4078-9b72-3d524666dfe4"
      },
      "source": [
        "def semestral(grades):\n",
        "  sem_gr = 0\n",
        "  for grade in grades:\n",
        "    sem_gr += grade\n",
        "  sgrade = 0.3*df.prelim_grades + 0.3*df.midterm_grades + 0.4*df.final_grades\n",
        "  return sgrade\n",
        "\n",
        "print(semestral(df.final_grades))\n",
        "print('Highest Semestral Grade is:', max(semestral(df.final_grades))) \n",
        "print('Lowest Semestral Grade is:', min(semestral(df.final_grades)))"
      ],
      "execution_count": null,
      "outputs": [
        {
          "output_type": "stream",
          "name": "stdout",
          "text": [
            "0     93.95368\n",
            "1     94.17768\n",
            "2     85.48800\n",
            "3     81.71960\n",
            "4     93.95368\n",
            "5     86.62518\n",
            "6     95.64512\n",
            "7     72.18334\n",
            "8     86.55088\n",
            "9     87.18088\n",
            "10    86.93518\n",
            "11    85.48800\n",
            "12    86.55088\n",
            "13    85.48800\n",
            "14    86.30518\n",
            "15    59.85238\n",
            "16    95.64512\n",
            "17    81.50368\n",
            "18    80.24088\n",
            "19    67.23410\n",
            "20    95.64512\n",
            "21    81.50368\n",
            "22    86.30518\n",
            "23    93.95368\n",
            "24    82.69168\n",
            "25    95.32512\n",
            "26    84.98988\n",
            "dtype: float64\n",
            "Highest Semestral Grade is: 95.64511999999999\n",
            "Lowest Semestral Grade is: 59.85238\n"
          ]
        }
      ]
    },
    {
      "cell_type": "code",
      "metadata": {
        "colab": {
          "base_uri": "https://localhost:8080/"
        },
        "id": "rDA3g53PuM22",
        "outputId": "7b6f0118-3c4b-455c-8c38-8a4fe3e8c39d"
      },
      "source": [
        "def semestral(grades):\n",
        "  sem_gr = 0\n",
        "  for grade in grades:\n",
        "    sem_gr += grade\n",
        "  sgrade = 0.3*df.prelim_grades + 0.3*df.midterm_grades + 0.4*df.final_grades\n",
        "  return sgrade\n",
        "\n",
        "print('Highest Midterm Grade is:',max(df.midterm_grades))\n",
        "print('Lowest Midterm Grade is:',min(df.midterm_grades))"
      ],
      "execution_count": null,
      "outputs": [
        {
          "output_type": "stream",
          "name": "stdout",
          "text": [
            "Highest Midterm Grade is: 97.3\n",
            "Lowest Midterm Grade is: 68.0\n"
          ]
        }
      ]
    },
    {
      "cell_type": "code",
      "metadata": {
        "colab": {
          "base_uri": "https://localhost:8080/"
        },
        "id": "bzjjIYbOuZX_",
        "outputId": "fac52aef-92ca-42b5-8901-949788a82464"
      },
      "source": [
        "def semestral(grades):\n",
        "  sem_gr = 0\n",
        "  for grade in grades:\n",
        "    sem_gr += grade\n",
        "  sgrade = 0.3*df.prelim_grades + 0.3*df.midterm_grades + 0.4*df.final_grades\n",
        "  return sgrade\n",
        "\n",
        "print('Highest Final Grade is:',max(df.final_grades))\n",
        "print('Lowest Final Grade is:',min(df.final_grades))"
      ],
      "execution_count": null,
      "outputs": [
        {
          "output_type": "stream",
          "name": "stdout",
          "text": [
            "Highest Final Grade is: 95.6528\n",
            "Lowest Final Grade is: 50.336000000000006\n"
          ]
        }
      ]
    },
    {
      "cell_type": "code",
      "metadata": {
        "colab": {
          "base_uri": "https://localhost:8080/"
        },
        "id": "IcCFeafFv6Dq",
        "outputId": "2933a798-23c8-400e-91b8-4822a65a98a2"
      },
      "source": [
        "def semestral(grades):\n",
        "  sem_gr = 0\n",
        "  for grade in grades:\n",
        "    sem_gr += grade\n",
        "  sgrade = 0.3*df.prelim_grades + 0.3*df.midterm_grades + 0.4*df.final_grades\n",
        "  return sgrade\n",
        "\n",
        "print('Highest Prelim Grades:', max(df.prelim_grades))\n",
        "print('Lowest Prelim Grades:', min(df.prelim_grades))\n",
        "print('---------------------------------------------')\n",
        "print('Highest Midterm Grade:', max(df.midterm_grades))\n",
        "print('Lowest Midterm Grade:', min(df.midterm_grades))\n",
        "print('---------------------------------------------')\n",
        "print('Highest Final Grade:', min(df.final_grades))\n",
        "print('Lowest Final Grade:', max(df.final_grades))\n",
        "print('---------------------------------------------')\n",
        "print('Highest Semestral Grade is:', max(semestral(df.final_grades))) \n",
        "print('Lowest Semestral Grade is:', min(semestral(df.final_grades)))"
      ],
      "execution_count": null,
      "outputs": [
        {
          "output_type": "stream",
          "name": "stdout",
          "text": [
            "Highest Prelim Grades: 96.4066667\n",
            "Lowest Prelim Grades: 0.0\n",
            "---------------------------------------------\n",
            "Highest Midterm Grade: 97.3\n",
            "Lowest Midterm Grade: 68.0\n",
            "---------------------------------------------\n",
            "Highest Final Grade: 50.336000000000006\n",
            "Lowest Final Grade: 95.6528\n",
            "---------------------------------------------\n",
            "Highest Semestral Grade is: 95.64511999999999\n",
            "Lowest Semestral Grade is: 59.85238\n"
          ]
        }
      ]
    },
    {
      "cell_type": "code",
      "metadata": {
        "colab": {
          "base_uri": "https://localhost:8080/"
        },
        "id": "NKh93FwpwXlH",
        "outputId": "f7d33359-0945-48a4-88da-dd487ed9e683"
      },
      "source": [
        "def stdv(grades):\n",
        "  grades_sum = 0\n",
        "  for grade in grades:\n",
        "    mm =  sum((grades-np.mean(grades))**2)/len(grades)\n",
        "    grades.std\n",
        "    return mm\n",
        "\n",
        "print(stdv(df.prelim_grades))\n",
        "print(stdv(df.midterm_grades))\n",
        "print(stdv(df.final_grades))"
      ],
      "execution_count": null,
      "outputs": [
        {
          "output_type": "stream",
          "name": "stdout",
          "text": [
            "343.39487421412787\n",
            "49.637213407407415\n",
            "71.34507115105623\n"
          ]
        }
      ]
    },
    {
      "cell_type": "code",
      "metadata": {
        "colab": {
          "base_uri": "https://localhost:8080/"
        },
        "id": "BTizNc7wAILH",
        "outputId": "0c30f746-aaab-43bc-cd92-14c0038e7bcc"
      },
      "source": [
        "def stanDev(grades):\n",
        "\tlength = len(grades)\n",
        "\tm = mean(grades)\n",
        "\ttotal_sum = 0\n",
        "\tfor i in range(length):\n",
        "\t\ttotal_sum += (grades[i]-m)**2\n",
        "\tunder_root = total_sum*1.0/length\n",
        "\treturn math.sqrt(total_sum/length)\n",
        "print(stanDev(df.prelim_grades))\n",
        "print(stanDev(df.midterm_grades))\n",
        "print(stanDev(df.final_grades))"
      ],
      "execution_count": null,
      "outputs": [
        {
          "output_type": "stream",
          "name": "stdout",
          "text": [
            "18.53091671272978\n",
            "7.04536822369189\n",
            "8.446601159700641\n"
          ]
        }
      ]
    },
    {
      "cell_type": "code",
      "metadata": {
        "colab": {
          "base_uri": "https://localhost:8080/"
        },
        "id": "a9inwoW8WNrC",
        "outputId": "80dfe407-fa3b-428b-a29c-52385d126e2f"
      },
      "source": [
        "print(semestral(df.final_grades))"
      ],
      "execution_count": null,
      "outputs": [
        {
          "output_type": "stream",
          "name": "stdout",
          "text": [
            "0     93.95368\n",
            "1     94.17768\n",
            "2     85.48800\n",
            "3     81.71960\n",
            "4     93.95368\n",
            "5     86.62518\n",
            "6     95.64512\n",
            "7     72.18334\n",
            "8     86.55088\n",
            "9     87.18088\n",
            "10    86.93518\n",
            "11    85.48800\n",
            "12    86.55088\n",
            "13    85.48800\n",
            "14    86.30518\n",
            "15    59.85238\n",
            "16    95.64512\n",
            "17    81.50368\n",
            "18    80.24088\n",
            "19    67.23410\n",
            "20    95.64512\n",
            "21    81.50368\n",
            "22    86.30518\n",
            "23    93.95368\n",
            "24    82.69168\n",
            "25    95.32512\n",
            "26    84.98988\n",
            "dtype: float64\n"
          ]
        }
      ]
    },
    {
      "cell_type": "code",
      "metadata": {
        "colab": {
          "base_uri": "https://localhost:8080/",
          "height": 878
        },
        "id": "Sq-P4cbdai-E",
        "outputId": "ca5c0b3e-060c-4023-97ec-a267157560b7"
      },
      "source": [
        "df['semestral_grades'] = (semestral(df.final_grades))\n",
        "df"
      ],
      "execution_count": null,
      "outputs": [
        {
          "output_type": "execute_result",
          "data": {
            "text/html": [
              "<div>\n",
              "<style scoped>\n",
              "    .dataframe tbody tr th:only-of-type {\n",
              "        vertical-align: middle;\n",
              "    }\n",
              "\n",
              "    .dataframe tbody tr th {\n",
              "        vertical-align: top;\n",
              "    }\n",
              "\n",
              "    .dataframe thead th {\n",
              "        text-align: right;\n",
              "    }\n",
              "</style>\n",
              "<table border=\"1\" class=\"dataframe\">\n",
              "  <thead>\n",
              "    <tr style=\"text-align: right;\">\n",
              "      <th></th>\n",
              "      <th>name</th>\n",
              "      <th>id</th>\n",
              "      <th>prelim_grades</th>\n",
              "      <th>midterm_grades</th>\n",
              "      <th>final_grades</th>\n",
              "      <th>semestral_grades</th>\n",
              "    </tr>\n",
              "  </thead>\n",
              "  <tbody>\n",
              "    <tr>\n",
              "      <th>0</th>\n",
              "      <td>alpha</td>\n",
              "      <td>1</td>\n",
              "      <td>94.960000</td>\n",
              "      <td>95.260</td>\n",
              "      <td>92.2192</td>\n",
              "      <td>93.95368</td>\n",
              "    </tr>\n",
              "    <tr>\n",
              "      <th>1</th>\n",
              "      <td>aleph</td>\n",
              "      <td>2</td>\n",
              "      <td>94.960000</td>\n",
              "      <td>95.260</td>\n",
              "      <td>92.7792</td>\n",
              "      <td>94.17768</td>\n",
              "    </tr>\n",
              "    <tr>\n",
              "      <th>2</th>\n",
              "      <td>beta</td>\n",
              "      <td>3</td>\n",
              "      <td>78.173333</td>\n",
              "      <td>94.360</td>\n",
              "      <td>84.3200</td>\n",
              "      <td>85.48800</td>\n",
              "    </tr>\n",
              "    <tr>\n",
              "      <th>3</th>\n",
              "      <td>beth</td>\n",
              "      <td>4</td>\n",
              "      <td>78.173333</td>\n",
              "      <td>81.372</td>\n",
              "      <td>84.6400</td>\n",
              "      <td>81.71960</td>\n",
              "    </tr>\n",
              "    <tr>\n",
              "      <th>4</th>\n",
              "      <td>cuprum</td>\n",
              "      <td>5</td>\n",
              "      <td>94.960000</td>\n",
              "      <td>95.260</td>\n",
              "      <td>92.2192</td>\n",
              "      <td>93.95368</td>\n",
              "    </tr>\n",
              "    <tr>\n",
              "      <th>5</th>\n",
              "      <td>delta</td>\n",
              "      <td>6</td>\n",
              "      <td>84.826667</td>\n",
              "      <td>92.485</td>\n",
              "      <td>83.5792</td>\n",
              "      <td>86.62518</td>\n",
              "    </tr>\n",
              "    <tr>\n",
              "      <th>6</th>\n",
              "      <td>eta</td>\n",
              "      <td>7</td>\n",
              "      <td>93.980000</td>\n",
              "      <td>97.300</td>\n",
              "      <td>95.6528</td>\n",
              "      <td>95.64512</td>\n",
              "    </tr>\n",
              "    <tr>\n",
              "      <th>7</th>\n",
              "      <td>epsilon</td>\n",
              "      <td>8</td>\n",
              "      <td>60.788200</td>\n",
              "      <td>68.000</td>\n",
              "      <td>83.8672</td>\n",
              "      <td>72.18334</td>\n",
              "    </tr>\n",
              "    <tr>\n",
              "      <th>8</th>\n",
              "      <td>foxtrot</td>\n",
              "      <td>9</td>\n",
              "      <td>94.306667</td>\n",
              "      <td>82.000</td>\n",
              "      <td>84.1472</td>\n",
              "      <td>86.55088</td>\n",
              "    </tr>\n",
              "    <tr>\n",
              "      <th>9</th>\n",
              "      <td>gamma</td>\n",
              "      <td>10</td>\n",
              "      <td>96.406667</td>\n",
              "      <td>82.000</td>\n",
              "      <td>84.1472</td>\n",
              "      <td>87.18088</td>\n",
              "    </tr>\n",
              "    <tr>\n",
              "      <th>10</th>\n",
              "      <td>geld</td>\n",
              "      <td>11</td>\n",
              "      <td>86.926667</td>\n",
              "      <td>92.485</td>\n",
              "      <td>82.7792</td>\n",
              "      <td>86.93518</td>\n",
              "    </tr>\n",
              "    <tr>\n",
              "      <th>11</th>\n",
              "      <td>horus</td>\n",
              "      <td>12</td>\n",
              "      <td>78.173333</td>\n",
              "      <td>94.360</td>\n",
              "      <td>84.3200</td>\n",
              "      <td>85.48800</td>\n",
              "    </tr>\n",
              "    <tr>\n",
              "      <th>12</th>\n",
              "      <td>iota</td>\n",
              "      <td>13</td>\n",
              "      <td>94.306667</td>\n",
              "      <td>82.000</td>\n",
              "      <td>84.1472</td>\n",
              "      <td>86.55088</td>\n",
              "    </tr>\n",
              "    <tr>\n",
              "      <th>13</th>\n",
              "      <td>ixus</td>\n",
              "      <td>14</td>\n",
              "      <td>78.173333</td>\n",
              "      <td>94.360</td>\n",
              "      <td>84.3200</td>\n",
              "      <td>85.48800</td>\n",
              "    </tr>\n",
              "    <tr>\n",
              "      <th>14</th>\n",
              "      <td>jakarta</td>\n",
              "      <td>15</td>\n",
              "      <td>84.826667</td>\n",
              "      <td>92.485</td>\n",
              "      <td>82.7792</td>\n",
              "      <td>86.30518</td>\n",
              "    </tr>\n",
              "    <tr>\n",
              "      <th>15</th>\n",
              "      <td>koppa</td>\n",
              "      <td>16</td>\n",
              "      <td>0.000000</td>\n",
              "      <td>87.685</td>\n",
              "      <td>83.8672</td>\n",
              "      <td>59.85238</td>\n",
              "    </tr>\n",
              "    <tr>\n",
              "      <th>16</th>\n",
              "      <td>lambda</td>\n",
              "      <td>17</td>\n",
              "      <td>93.980000</td>\n",
              "      <td>97.300</td>\n",
              "      <td>95.6528</td>\n",
              "      <td>95.64512</td>\n",
              "    </tr>\n",
              "    <tr>\n",
              "      <th>17</th>\n",
              "      <td>mu</td>\n",
              "      <td>18</td>\n",
              "      <td>79.806667</td>\n",
              "      <td>83.500</td>\n",
              "      <td>81.2792</td>\n",
              "      <td>81.50368</td>\n",
              "    </tr>\n",
              "    <tr>\n",
              "      <th>18</th>\n",
              "      <td>nu</td>\n",
              "      <td>19</td>\n",
              "      <td>75.406667</td>\n",
              "      <td>82.000</td>\n",
              "      <td>82.5472</td>\n",
              "      <td>80.24088</td>\n",
              "    </tr>\n",
              "    <tr>\n",
              "      <th>19</th>\n",
              "      <td>neta</td>\n",
              "      <td>20</td>\n",
              "      <td>69.314000</td>\n",
              "      <td>87.685</td>\n",
              "      <td>50.3360</td>\n",
              "      <td>67.23410</td>\n",
              "    </tr>\n",
              "    <tr>\n",
              "      <th>20</th>\n",
              "      <td>omicron</td>\n",
              "      <td>21</td>\n",
              "      <td>93.980000</td>\n",
              "      <td>97.300</td>\n",
              "      <td>95.6528</td>\n",
              "      <td>95.64512</td>\n",
              "    </tr>\n",
              "    <tr>\n",
              "      <th>21</th>\n",
              "      <td>omega</td>\n",
              "      <td>22</td>\n",
              "      <td>79.806667</td>\n",
              "      <td>83.500</td>\n",
              "      <td>81.2792</td>\n",
              "      <td>81.50368</td>\n",
              "    </tr>\n",
              "    <tr>\n",
              "      <th>22</th>\n",
              "      <td>phalanx</td>\n",
              "      <td>23</td>\n",
              "      <td>84.826667</td>\n",
              "      <td>92.485</td>\n",
              "      <td>82.7792</td>\n",
              "      <td>86.30518</td>\n",
              "    </tr>\n",
              "    <tr>\n",
              "      <th>23</th>\n",
              "      <td>peta</td>\n",
              "      <td>24</td>\n",
              "      <td>94.960000</td>\n",
              "      <td>95.260</td>\n",
              "      <td>92.2192</td>\n",
              "      <td>93.95368</td>\n",
              "    </tr>\n",
              "    <tr>\n",
              "      <th>24</th>\n",
              "      <td>pi</td>\n",
              "      <td>25</td>\n",
              "      <td>79.806667</td>\n",
              "      <td>87.460</td>\n",
              "      <td>81.2792</td>\n",
              "      <td>82.69168</td>\n",
              "    </tr>\n",
              "    <tr>\n",
              "      <th>25</th>\n",
              "      <td>yotta</td>\n",
              "      <td>26</td>\n",
              "      <td>93.980000</td>\n",
              "      <td>97.300</td>\n",
              "      <td>94.8528</td>\n",
              "      <td>95.32512</td>\n",
              "    </tr>\n",
              "    <tr>\n",
              "      <th>26</th>\n",
              "      <td>zeta</td>\n",
              "      <td>27</td>\n",
              "      <td>86.626667</td>\n",
              "      <td>84.850</td>\n",
              "      <td>83.8672</td>\n",
              "      <td>84.98988</td>\n",
              "    </tr>\n",
              "  </tbody>\n",
              "</table>\n",
              "</div>"
            ],
            "text/plain": [
              "       name  id  prelim_grades  midterm_grades  final_grades  semestral_grades\n",
              "0     alpha   1      94.960000          95.260       92.2192          93.95368\n",
              "1     aleph   2      94.960000          95.260       92.7792          94.17768\n",
              "2      beta   3      78.173333          94.360       84.3200          85.48800\n",
              "3      beth   4      78.173333          81.372       84.6400          81.71960\n",
              "4    cuprum   5      94.960000          95.260       92.2192          93.95368\n",
              "5     delta   6      84.826667          92.485       83.5792          86.62518\n",
              "6       eta   7      93.980000          97.300       95.6528          95.64512\n",
              "7   epsilon   8      60.788200          68.000       83.8672          72.18334\n",
              "8   foxtrot   9      94.306667          82.000       84.1472          86.55088\n",
              "9     gamma  10      96.406667          82.000       84.1472          87.18088\n",
              "10     geld  11      86.926667          92.485       82.7792          86.93518\n",
              "11    horus  12      78.173333          94.360       84.3200          85.48800\n",
              "12     iota  13      94.306667          82.000       84.1472          86.55088\n",
              "13     ixus  14      78.173333          94.360       84.3200          85.48800\n",
              "14  jakarta  15      84.826667          92.485       82.7792          86.30518\n",
              "15    koppa  16       0.000000          87.685       83.8672          59.85238\n",
              "16   lambda  17      93.980000          97.300       95.6528          95.64512\n",
              "17       mu  18      79.806667          83.500       81.2792          81.50368\n",
              "18       nu  19      75.406667          82.000       82.5472          80.24088\n",
              "19     neta  20      69.314000          87.685       50.3360          67.23410\n",
              "20  omicron  21      93.980000          97.300       95.6528          95.64512\n",
              "21    omega  22      79.806667          83.500       81.2792          81.50368\n",
              "22  phalanx  23      84.826667          92.485       82.7792          86.30518\n",
              "23     peta  24      94.960000          95.260       92.2192          93.95368\n",
              "24       pi  25      79.806667          87.460       81.2792          82.69168\n",
              "25    yotta  26      93.980000          97.300       94.8528          95.32512\n",
              "26     zeta  27      86.626667          84.850       83.8672          84.98988"
            ]
          },
          "metadata": {},
          "execution_count": 53
        }
      ]
    },
    {
      "cell_type": "markdown",
      "metadata": {
        "id": "MgtCsu-3bug8"
      },
      "source": [
        "Task 3"
      ]
    },
    {
      "cell_type": "code",
      "metadata": {
        "colab": {
          "base_uri": "https://localhost:8080/",
          "height": 415
        },
        "id": "Cmd-94CtbtEw",
        "outputId": "07404567-0c7c-47ce-c591-54aef91d9600"
      },
      "source": [
        "df1 = pd.read_excel ('classlists.xlsx','class1')\n",
        "df1"
      ],
      "execution_count": null,
      "outputs": [
        {
          "output_type": "execute_result",
          "data": {
            "text/html": [
              "<div>\n",
              "<style scoped>\n",
              "    .dataframe tbody tr th:only-of-type {\n",
              "        vertical-align: middle;\n",
              "    }\n",
              "\n",
              "    .dataframe tbody tr th {\n",
              "        vertical-align: top;\n",
              "    }\n",
              "\n",
              "    .dataframe thead th {\n",
              "        text-align: right;\n",
              "    }\n",
              "</style>\n",
              "<table border=\"1\" class=\"dataframe\">\n",
              "  <thead>\n",
              "    <tr style=\"text-align: right;\">\n",
              "      <th></th>\n",
              "      <th>Student Numbers</th>\n",
              "    </tr>\n",
              "  </thead>\n",
              "  <tbody>\n",
              "    <tr>\n",
              "      <th>0</th>\n",
              "      <td>201009754</td>\n",
              "    </tr>\n",
              "    <tr>\n",
              "      <th>1</th>\n",
              "      <td>201109795</td>\n",
              "    </tr>\n",
              "    <tr>\n",
              "      <th>2</th>\n",
              "      <td>201005713</td>\n",
              "    </tr>\n",
              "    <tr>\n",
              "      <th>3</th>\n",
              "      <td>201009855</td>\n",
              "    </tr>\n",
              "    <tr>\n",
              "      <th>4</th>\n",
              "      <td>201006171</td>\n",
              "    </tr>\n",
              "    <tr>\n",
              "      <th>...</th>\n",
              "      <td>...</td>\n",
              "    </tr>\n",
              "    <tr>\n",
              "      <th>995</th>\n",
              "      <td>201108927</td>\n",
              "    </tr>\n",
              "    <tr>\n",
              "      <th>996</th>\n",
              "      <td>201005697</td>\n",
              "    </tr>\n",
              "    <tr>\n",
              "      <th>997</th>\n",
              "      <td>201005744</td>\n",
              "    </tr>\n",
              "    <tr>\n",
              "      <th>998</th>\n",
              "      <td>201109959</td>\n",
              "    </tr>\n",
              "    <tr>\n",
              "      <th>999</th>\n",
              "      <td>201109382</td>\n",
              "    </tr>\n",
              "  </tbody>\n",
              "</table>\n",
              "<p>1000 rows × 1 columns</p>\n",
              "</div>"
            ],
            "text/plain": [
              "     Student Numbers\n",
              "0          201009754\n",
              "1          201109795\n",
              "2          201005713\n",
              "3          201009855\n",
              "4          201006171\n",
              "..               ...\n",
              "995        201108927\n",
              "996        201005697\n",
              "997        201005744\n",
              "998        201109959\n",
              "999        201109382\n",
              "\n",
              "[1000 rows x 1 columns]"
            ]
          },
          "metadata": {},
          "execution_count": 56
        }
      ]
    },
    {
      "cell_type": "code",
      "metadata": {
        "colab": {
          "base_uri": "https://localhost:8080/",
          "height": 415
        },
        "id": "vXcy7eyob6oD",
        "outputId": "6ead27b8-0514-4c9b-9603-85ff5cb4757f"
      },
      "source": [
        "df2 = pd.read_excel ('classlists.xlsx','class2')\n",
        "df2"
      ],
      "execution_count": null,
      "outputs": [
        {
          "output_type": "execute_result",
          "data": {
            "text/html": [
              "<div>\n",
              "<style scoped>\n",
              "    .dataframe tbody tr th:only-of-type {\n",
              "        vertical-align: middle;\n",
              "    }\n",
              "\n",
              "    .dataframe tbody tr th {\n",
              "        vertical-align: top;\n",
              "    }\n",
              "\n",
              "    .dataframe thead th {\n",
              "        text-align: right;\n",
              "    }\n",
              "</style>\n",
              "<table border=\"1\" class=\"dataframe\">\n",
              "  <thead>\n",
              "    <tr style=\"text-align: right;\">\n",
              "      <th></th>\n",
              "      <th>Student Numbers</th>\n",
              "    </tr>\n",
              "  </thead>\n",
              "  <tbody>\n",
              "    <tr>\n",
              "      <th>0</th>\n",
              "      <td>201103056</td>\n",
              "    </tr>\n",
              "    <tr>\n",
              "      <th>1</th>\n",
              "      <td>201105136</td>\n",
              "    </tr>\n",
              "    <tr>\n",
              "      <th>2</th>\n",
              "      <td>201002284</td>\n",
              "    </tr>\n",
              "    <tr>\n",
              "      <th>3</th>\n",
              "      <td>201104588</td>\n",
              "    </tr>\n",
              "    <tr>\n",
              "      <th>4</th>\n",
              "      <td>201004799</td>\n",
              "    </tr>\n",
              "    <tr>\n",
              "      <th>...</th>\n",
              "      <td>...</td>\n",
              "    </tr>\n",
              "    <tr>\n",
              "      <th>995</th>\n",
              "      <td>201101346</td>\n",
              "    </tr>\n",
              "    <tr>\n",
              "      <th>996</th>\n",
              "      <td>201007625</td>\n",
              "    </tr>\n",
              "    <tr>\n",
              "      <th>997</th>\n",
              "      <td>201003815</td>\n",
              "    </tr>\n",
              "    <tr>\n",
              "      <th>998</th>\n",
              "      <td>201102428</td>\n",
              "    </tr>\n",
              "    <tr>\n",
              "      <th>999</th>\n",
              "      <td>201006876</td>\n",
              "    </tr>\n",
              "  </tbody>\n",
              "</table>\n",
              "<p>1000 rows × 1 columns</p>\n",
              "</div>"
            ],
            "text/plain": [
              "     Student Numbers\n",
              "0          201103056\n",
              "1          201105136\n",
              "2          201002284\n",
              "3          201104588\n",
              "4          201004799\n",
              "..               ...\n",
              "995        201101346\n",
              "996        201007625\n",
              "997        201003815\n",
              "998        201102428\n",
              "999        201006876\n",
              "\n",
              "[1000 rows x 1 columns]"
            ]
          },
          "metadata": {},
          "execution_count": 57
        }
      ]
    },
    {
      "cell_type": "code",
      "metadata": {
        "colab": {
          "base_uri": "https://localhost:8080/"
        },
        "id": "cctiu_JvcAes",
        "outputId": "d23f6566-47dc-4bdc-99bb-89cc868691ac"
      },
      "source": [
        "class1 = df1[\"Student Numbers\"]\n",
        "class2 = df2[\"Student Numbers\"]\n",
        "\n",
        "\n",
        "class1_as_set = set(class1)\n",
        "intersection = class1_as_set.intersection(class2)\n",
        "\n",
        "intersection_as_list = list(intersection)\n",
        "\n",
        "print(intersection_as_list)\n",
        "cstudentnumber1 = df1\n",
        "cstudentnumber2 = df2\n",
        "\n",
        "get_student_number = set(cstudentnumber1)\n",
        "intersection = get_student_number.intersection(cstudentnumber2)\n",
        "\n",
        "lists_student_num = list(intersection)\n",
        "print(lists_student_num)"
      ],
      "execution_count": null,
      "outputs": [
        {
          "output_type": "stream",
          "name": "stdout",
          "text": [
            "[201009157, 201002245, 201009671, 201008775, 201102471, 201108238, 201105295, 201108241, 201105430, 201106199, 201003675, 201009820, 201103263, 201102367, 201004454, 201002279, 201009959, 201105318, 201109930, 201003688, 201101996, 201005482, 201102510, 201009967, 201103024, 201109680, 201008815, 201109299, 201106739, 201007925, 201005367, 201105592, 201008697, 201002173, 201102397, 201104063, 201109056, 201004865, 201109823, 201007043, 201105857, 201101893, 201009096, 201009997, 201108816, 201104594, 201003730, 201006042, 201005275, 201106780, 201005150, 201002849, 201007074, 201005415, 201108071, 201105896, 201105259, 201102318, 201102320, 201105014, 201005821, 201005822]\n",
            "['Student Numbers']\n"
          ]
        }
      ]
    },
    {
      "cell_type": "code",
      "metadata": {
        "colab": {
          "base_uri": "https://localhost:8080/"
        },
        "id": "-FvdzgBocIrc",
        "outputId": "16d74d61-8b4d-41a6-cae4-95fcb8661dc7"
      },
      "source": [
        "class1 = df1[\"Student Numbers\"]\n",
        "class2 = df2[\"Student Numbers\"]\n",
        "list(set(class1).intersection(class2))\n"
      ],
      "execution_count": null,
      "outputs": [
        {
          "output_type": "execute_result",
          "data": {
            "text/plain": [
              "[201009157,\n",
              " 201002245,\n",
              " 201009671,\n",
              " 201008775,\n",
              " 201102471,\n",
              " 201108238,\n",
              " 201105295,\n",
              " 201108241,\n",
              " 201105430,\n",
              " 201106199,\n",
              " 201003675,\n",
              " 201009820,\n",
              " 201103263,\n",
              " 201102367,\n",
              " 201004454,\n",
              " 201002279,\n",
              " 201009959,\n",
              " 201105318,\n",
              " 201109930,\n",
              " 201003688,\n",
              " 201101996,\n",
              " 201005482,\n",
              " 201102510,\n",
              " 201009967,\n",
              " 201103024,\n",
              " 201109680,\n",
              " 201008815,\n",
              " 201109299,\n",
              " 201106739,\n",
              " 201007925,\n",
              " 201005367,\n",
              " 201105592,\n",
              " 201008697,\n",
              " 201002173,\n",
              " 201102397,\n",
              " 201104063,\n",
              " 201109056,\n",
              " 201004865,\n",
              " 201109823,\n",
              " 201007043,\n",
              " 201105857,\n",
              " 201101893,\n",
              " 201009096,\n",
              " 201009997,\n",
              " 201108816,\n",
              " 201104594,\n",
              " 201003730,\n",
              " 201006042,\n",
              " 201005275,\n",
              " 201106780,\n",
              " 201005150,\n",
              " 201002849,\n",
              " 201007074,\n",
              " 201005415,\n",
              " 201108071,\n",
              " 201105896,\n",
              " 201105259,\n",
              " 201102318,\n",
              " 201102320,\n",
              " 201105014,\n",
              " 201005821,\n",
              " 201005822]"
            ]
          },
          "metadata": {},
          "execution_count": 59
        }
      ]
    },
    {
      "cell_type": "markdown",
      "metadata": {
        "id": "Mb7PF_qo1bZw"
      },
      "source": [
        "Task 4"
      ]
    },
    {
      "cell_type": "code",
      "metadata": {
        "id": "70oqiwopcMmK"
      },
      "source": [
        "def get_grades_opt(grades):\n",
        "  pgrades = [df.prelim_grades] \n",
        "  mgrades = [df.midterm_grades] \n",
        "  fgrades = [df.final_grades] \n",
        "  sgrades = [df.pgrades * 0.3 + df.mgrades * 0.3 + df.fgrades * 0.4]\n",
        "  return sgrades\n",
        "\n",
        "  print(sgrades) \n",
        "  print(semestral(df.semestral_grades))\n"
      ],
      "execution_count": null,
      "outputs": []
    },
    {
      "cell_type": "code",
      "metadata": {
        "colab": {
          "base_uri": "https://localhost:8080/"
        },
        "id": "Y0dAIv05fRCX",
        "outputId": "cc9f2171-ad9d-4ff4-fa6d-eea48359b969"
      },
      "source": [
        "print(sgrades)"
      ],
      "execution_count": null,
      "outputs": [
        {
          "output_type": "stream",
          "name": "stdout",
          "text": [
            "[0     93.95368\n",
            "1     94.17768\n",
            "2     85.48800\n",
            "3     81.71960\n",
            "4     93.95368\n",
            "5     86.62518\n",
            "6     95.64512\n",
            "7     72.18334\n",
            "8     86.55088\n",
            "9     87.18088\n",
            "10    86.93518\n",
            "11    85.48800\n",
            "12    86.55088\n",
            "13    85.48800\n",
            "14    86.30518\n",
            "15    59.85238\n",
            "16    95.64512\n",
            "17    81.50368\n",
            "18    80.24088\n",
            "19    67.23410\n",
            "20    95.64512\n",
            "21    81.50368\n",
            "22    86.30518\n",
            "23    93.95368\n",
            "24    82.69168\n",
            "25    95.32512\n",
            "26    84.98988\n",
            "Name: semestral_grades, dtype: float64]\n"
          ]
        }
      ]
    },
    {
      "cell_type": "code",
      "metadata": {
        "id": "gXx6ClCFlLUq"
      },
      "source": [
        "def get_failed(grades):\n",
        "\n",
        "  for grade in grades:\n",
        " \n",
        "    fgrades = df[df[\"semestral_grades\"] < 70]\n",
        "    return fgrades"
      ],
      "execution_count": null,
      "outputs": []
    },
    {
      "cell_type": "code",
      "metadata": {
        "colab": {
          "base_uri": "https://localhost:8080/"
        },
        "id": "G3WVEXG1lU_H",
        "outputId": "68d4535b-5960-4b13-f2a7-def777162820"
      },
      "source": [
        "print(get_failed(df))"
      ],
      "execution_count": null,
      "outputs": [
        {
          "output_type": "stream",
          "name": "stdout",
          "text": [
            "     name  id  prelim_grades  midterm_grades  final_grades  semestral_grades\n",
            "15  koppa  16          0.000          87.685       83.8672          59.85238\n",
            "19   neta  20         69.314          87.685       50.3360          67.23410\n"
          ]
        }
      ]
    },
    {
      "cell_type": "code",
      "metadata": {
        "id": "okIDrQYZmAVQ",
        "colab": {
          "base_uri": "https://localhost:8080/"
        },
        "outputId": "efae8b22-3504-40ad-e92d-a1aab982f160"
      },
      "source": [
        "def fail_count(grades):\n",
        "  for grade in grades:\n",
        "      rows = df.shape[0]\n",
        "      failgrade = ('Number of failed students:' +  str(rows))\n",
        "      \n",
        "      return failgrade \n",
        "\n",
        "print (fail_count(df))"
      ],
      "execution_count": null,
      "outputs": [
        {
          "output_type": "stream",
          "name": "stdout",
          "text": [
            "Number of failed students:2\n"
          ]
        }
      ]
    }
  ]
}